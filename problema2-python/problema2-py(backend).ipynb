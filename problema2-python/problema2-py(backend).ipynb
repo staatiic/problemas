{
 "cells": [
  {
   "cell_type": "markdown",
   "id": "571311fd-0dce-4037-89c4-13b6286023a0",
   "metadata": {},
   "source": [
    "## Problema 2"
   ]
  },
  {
   "cell_type": "markdown",
   "id": "ab6ba32a-f1d1-4aae-bce4-0e5032838f95",
   "metadata": {},
   "source": [
    "### I. Diseña una función que, dado un arreglo de enteros (puede incluir números negativos), encuentre el subarreglo contiguo con la suma más alta. Usa el siguiente algoritmo para optimizar su función:"
   ]
  },
  {
   "cell_type": "markdown",
   "id": "4b955f45-e0e1-4786-9e3f-13037eae0632",
   "metadata": {},
   "source": [
    "$$\n",
    "\\max_{t(i)} = \\max(A[i], \\max_{t(i-1)} + A[i])\n",
    "$$\n"
   ]
  },
  {
   "cell_type": "markdown",
   "id": "00860648-304d-45c1-8ff4-6a247c87d5fa",
   "metadata": {},
   "source": [
    "En dónde $ \\max_{t(i)} $ es la suma máxima del subarreglo que termina en el índice $i$ en el tiempo $t$, y $A[i]$ es el valor actual del arreglo.\n"
   ]
  },
  {
   "cell_type": "markdown",
   "id": "3c2d6b45-26f4-444d-b5fe-393fb11a42c1",
   "metadata": {},
   "source": [
    "#### Solución propuesta:"
   ]
  },
  {
   "cell_type": "code",
   "execution_count": 34,
   "id": "c8e654ff-9d12-416a-9b5c-5e85ab0876c8",
   "metadata": {},
   "outputs": [
    {
     "name": "stdin",
     "output_type": "stream",
     "text": [
      "Ingresa los valores NUMÉRICOS del arreglo separados por comas:  -2,1,-3,4\n"
     ]
    },
    {
     "name": "stdout",
     "output_type": "stream",
     "text": [
      "la suma máxima de un subarreglo contiguo es: 4\n"
     ]
    }
   ],
   "source": [
    "g = input(\"Ingresa los valores NUMÉRICOS del arreglo separados por comas: \")\n",
    "if not g:\n",
    "    print(\"el array está vacío x.x\")\n",
    "else:\n",
    "    j = list(map(int, g.split(',')))\n",
    "\n",
    "    max_global = j[0]\n",
    "    max_actual = j[0]\n",
    "\n",
    "    for num in j[1:]:\n",
    "        max_actual = max(num, max_actual + num)\n",
    "        max_global = max(max_global, max_actual)\n",
    "\n",
    "    print(\"la suma máxima de un subarreglo contiguo es:\", max_global)"
   ]
  },
  {
   "cell_type": "markdown",
   "id": "ea7cce3f-34ab-4c4b-95c6-b78ddfeefeb1",
   "metadata": {},
   "source": [
    "#### Explicación con un ejemplo: ``[-2, 1, -3, 4]``"
   ]
  },
  {
   "cell_type": "markdown",
   "id": "458f9e52-bea7-4b0c-bd15-89aa07372e49",
   "metadata": {},
   "source": [
    "#### 1. Inicialización\n",
    "\n",
    "Tomamos el primer número del arreglo como valor inicial:\n",
    "\n",
    "- max_actual = -2\n",
    "- max_global = -2\n",
    "\n",
    "#### 2. Recorremos desde el segundo número en adelante\n",
    "\n",
    "**Valor actual = 1**\n",
    "\n",
    "- max_actual = max(1, -2 + 1) = max(1, -1) = 1\n",
    "- max_global = max(-2, 1) = 1\n",
    "\n",
    "**Valor actual = -3**\n",
    "\n",
    "- max_actual = max(-3, 1 + (-3)) = max(-3, -2) = -2\n",
    "- max_global = max(1, -2) = 1\n",
    "\n",
    "**Valor actual = 4**\n",
    "\n",
    "- max_actual = max(4, -2 + 4) = max(4, 2) = 4\n",
    "- max_global = max(1, 4) = 4\n",
    "\n",
    "#### Resultado final\n",
    "\n",
    "La suma máxima de un subarreglo contiguo es: 4"
   ]
  },
  {
   "cell_type": "markdown",
   "id": "438d5714-f17c-4234-a661-63336178b63c",
   "metadata": {},
   "source": [
    "### II. Crea una función o clase que reciba una lista de montos de créditos solicitados por los clientes y un capital disponible total del banco. La función o clase debe encontrar la mayor cantidad de créditos que se pueden aprobar sin exceder el capital disponible."
   ]
  },
  {
   "cell_type": "markdown",
   "id": "8dc1b6fc-37d7-441a-8e55-eec8956f2b2a",
   "metadata": {},
   "source": [
    "### Lógica del algoritmo\n",
    "\n",
    "1. Ordenamos los montos de menor a mayor.\n",
    "2. Vamos iterando entre los montos y sumando cada uno mientras no superen el capital que está establecido.\n",
    "3. Contamos cuántos créditos pudimos aprobar antes de pasarnos.\n"
   ]
  },
  {
   "cell_type": "code",
   "execution_count": 25,
   "id": "0a97a007-6210-4627-bc06-6ad36d86adf9",
   "metadata": {},
   "outputs": [],
   "source": [
    "def max_creditos_aprobados(montos, capital):\n",
    "    montos.sort()\n",
    "    total = 0\n",
    "    aprobados = 0\n",
    "\n",
    "    for g in montos:\n",
    "        if total + g <= capital:\n",
    "            total += g\n",
    "            aprobados += 1\n",
    "        else:\n",
    "            break\n",
    "\n",
    "    return aprobados"
   ]
  },
  {
   "cell_type": "markdown",
   "id": "c98bc76d-4aa6-4612-9e21-8edc06f220f8",
   "metadata": {},
   "source": [
    "### Ejemplo hardcodeado"
   ]
  },
  {
   "cell_type": "code",
   "execution_count": 28,
   "id": "d7419911-1651-4b76-a3e6-32bc9a5e8cb7",
   "metadata": {},
   "outputs": [
    {
     "name": "stdout",
     "output_type": "stream",
     "text": [
      "Solicitudes: [444, 888, 3333, 5555, 7777]\n",
      "Capital: 7000\n",
      "Créditos aprobados: 3\n"
     ]
    }
   ],
   "source": [
    "solicitudes = [3333, 444, 5555, 7777, 888]\n",
    "capital = 7000\n",
    "\n",
    "res = max_creditos_aprobados(solicitudes, capital)\n",
    "\n",
    "print(\"Solicitudes:\", solicitudes)\n",
    "print(\"Capital:\", capital)\n",
    "print(\"Créditos aprobados:\", res)"
   ]
  }
 ],
 "metadata": {
  "kernelspec": {
   "display_name": "Python 3 (ipykernel)",
   "language": "python",
   "name": "python3"
  },
  "language_info": {
   "codemirror_mode": {
    "name": "ipython",
    "version": 3
   },
   "file_extension": ".py",
   "mimetype": "text/x-python",
   "name": "python",
   "nbconvert_exporter": "python",
   "pygments_lexer": "ipython3",
   "version": "3.12.7"
  }
 },
 "nbformat": 4,
 "nbformat_minor": 5
}
